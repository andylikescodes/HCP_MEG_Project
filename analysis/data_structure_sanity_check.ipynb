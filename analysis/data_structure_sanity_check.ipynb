{
 "cells": [
  {
   "cell_type": "code",
   "execution_count": 2,
   "metadata": {},
   "outputs": [],
   "source": [
    "import numpy as np\n",
    "from tools import *\n",
    "from scipy.io import loadmat\n",
    "%load_ext autoreload\n",
    "%autoreload 2"
   ]
  },
  {
   "cell_type": "code",
   "execution_count": 9,
   "metadata": {},
   "outputs": [],
   "source": [
    "data = {}\n",
    "raw = loadmat(data_paths[0])\n",
    "val = raw['data']"
   ]
  },
  {
   "cell_type": "code",
   "execution_count": 10,
   "metadata": {},
   "outputs": [
    {
     "data": {
      "text/plain": [
       "(1, 1)"
      ]
     },
     "execution_count": 10,
     "metadata": {},
     "output_type": "execute_result"
    }
   ],
   "source": [
    "val['trial'].shape"
   ]
  },
  {
   "cell_type": "code",
   "execution_count": 43,
   "metadata": {},
   "outputs": [
    {
     "data": {
      "text/plain": [
       "array([[-8.17092218e-14,  1.22830458e-13, -1.47639634e-13, ...,\n",
       "         1.26101707e-13,  1.11916606e-13,  8.03105161e-14],\n",
       "       [-1.31105058e-13, -1.04895549e-13, -9.87066249e-14, ...,\n",
       "         1.48541916e-13,  2.41103754e-13,  6.25427290e-14],\n",
       "       [-7.02376489e-14,  6.97529000e-14, -6.12533090e-14, ...,\n",
       "        -1.07694821e-13, -1.88724397e-13,  1.69767683e-13],\n",
       "       ...,\n",
       "       [-2.15250612e-13, -4.24472872e-13,  6.66840014e-14, ...,\n",
       "         4.39662716e-13, -5.88493406e-15, -2.74936936e-14],\n",
       "       [ 1.16238838e-13, -6.27475575e-15,  1.28850092e-13, ...,\n",
       "        -1.26298843e-14,  1.67794731e-13, -1.12629270e-13],\n",
       "       [ 1.73580277e-14, -1.59681347e-13,  3.97766537e-14, ...,\n",
       "        -1.05313136e-13, -2.46542906e-13, -2.97806163e-13]])"
      ]
     },
     "execution_count": 43,
     "metadata": {},
     "output_type": "execute_result"
    }
   ],
   "source": [
    "raw['data']['trial'][0][0][0][0].T.reshape([241, 1018])"
   ]
  },
  {
   "cell_type": "code",
   "execution_count": 39,
   "metadata": {},
   "outputs": [
    {
     "data": {
      "text/plain": [
       "array([[-8.17092218e-14,  3.20193824e-14,  1.89554778e-15, ...,\n",
       "         1.05812373e-13, -8.62613327e-15, -6.21246972e-14],\n",
       "       [ 1.22830458e-13, -8.12503926e-14, -1.00215834e-13, ...,\n",
       "         1.03532694e-13,  9.51367537e-14, -1.57193539e-14],\n",
       "       [-1.47639634e-13, -4.22120857e-13, -8.46828079e-14, ...,\n",
       "         4.70542348e-13,  3.20565982e-13,  1.09832921e-13],\n",
       "       ...,\n",
       "       [ 2.52134434e-14,  2.23447819e-13,  1.74930756e-13, ...,\n",
       "         3.10455472e-14,  3.68365169e-14, -1.05313136e-13],\n",
       "       [ 2.86317909e-14, -1.57311718e-13,  5.93020552e-15, ...,\n",
       "        -1.00757161e-14, -1.76271492e-13, -2.46542906e-13],\n",
       "       [-6.80801600e-14, -1.39775760e-13,  2.70998790e-14, ...,\n",
       "         1.44878260e-13, -1.13809663e-13, -2.97806163e-13]])"
      ]
     },
     "execution_count": 39,
     "metadata": {},
     "output_type": "execute_result"
    }
   ],
   "source": [
    "raw['data']['trial'][0][0][0][0]"
   ]
  },
  {
   "cell_type": "code",
   "execution_count": null,
   "metadata": {},
   "outputs": [],
   "source": []
  }
 ],
 "metadata": {
  "kernelspec": {
   "display_name": "Python 3",
   "language": "python",
   "name": "python3"
  },
  "language_info": {
   "codemirror_mode": {
    "name": "ipython",
    "version": 3
   },
   "file_extension": ".py",
   "mimetype": "text/x-python",
   "name": "python",
   "nbconvert_exporter": "python",
   "pygments_lexer": "ipython3",
   "version": "3.8.1"
  }
 },
 "nbformat": 4,
 "nbformat_minor": 4
}
