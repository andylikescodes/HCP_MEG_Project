{
 "cells": [
  {
   "cell_type": "code",
   "execution_count": 13,
   "metadata": {},
   "outputs": [
    {
     "name": "stdout",
     "output_type": "stream",
     "text": [
      "The autoreload extension is already loaded. To reload it, use:\n",
      "  %reload_ext autoreload\n"
     ]
    }
   ],
   "source": [
    "import numpy as np\n",
    "from tools import *\n",
    "%load_ext autoreload\n",
    "%autoreload 2"
   ]
  },
  {
   "cell_type": "code",
   "execution_count": 14,
   "metadata": {},
   "outputs": [],
   "source": [
    "infos = get_file_info(data_paths[0])"
   ]
  },
  {
   "cell_type": "code",
   "execution_count": 15,
   "metadata": {},
   "outputs": [
    {
     "data": {
      "text/plain": [
       "{'filename': '100307_MEG_3-Restin_rmegpreproc.mat',\n",
       " 'subject_id': '100307',\n",
       " 'session_id': '3-Restin'}"
      ]
     },
     "execution_count": 15,
     "metadata": {},
     "output_type": "execute_result"
    }
   ],
   "source": [
    "infos"
   ]
  },
  {
   "cell_type": "code",
   "execution_count": 16,
   "metadata": {},
   "outputs": [
    {
     "name": "stdout",
     "output_type": "stream",
     "text": [
      "Sensor channel position (271, 3) extracted...\n",
      "Sensor channel type (271,) extracted...\n",
      "Sensor channel label (271,) extracted...\n",
      "Sampling frequency 508.62752490487884 extracted ...\n",
      "Labels after preprocessing (241,) extracted ...\n",
      "Trials after preprocessing (241, 1018, 147) extracted ...\n",
      "The time course of the trials (1018,) extracted ...\n"
     ]
    }
   ],
   "source": [
    "data = extract_data(data_paths[0])"
   ]
  },
  {
   "cell_type": "code",
   "execution_count": 17,
   "metadata": {},
   "outputs": [],
   "source": [
    "def correlation_over_time(data):\n",
    "    trials = data['trial']\n",
    "    available_channels = get_available_channels(data)\n",
    "    orders = ordering(available_channels, data['label'])\n",
    "    avail_trials = trials[orders,:,:]\n",
    "    \n",
    "    stacked_matrixes = stack_channels_by_trials(avail_trials)\n",
    "    \n",
    "    corr = np.corrcoef(stacked_matrixes)\n",
    "    savepath = 'output/{}_{}_Corr_x_x_1018.png'.format(infos['subject_id'], infos['session_id'])\n",
    "    plot_correlation(corr, title=' Correlation Matrix by trials - t=1018',\n",
    "                     vrange=[], figure_size=(50, 40), zero_diagonal=False,\n",
    "                     filename=savepath)\n",
    "    \n",
    "    \n",
    "    "
   ]
  },
  {
   "cell_type": "code",
   "execution_count": null,
   "metadata": {},
   "outputs": [
    {
     "name": "stdout",
     "output_type": "stream",
     "text": [
      "(35427, 1018)\n",
      "(241, 1018)\n"
     ]
    }
   ],
   "source": [
    "correlation_over_time(data)"
   ]
  },
  {
   "cell_type": "code",
   "execution_count": null,
   "metadata": {},
   "outputs": [],
   "source": []
  },
  {
   "cell_type": "code",
   "execution_count": null,
   "metadata": {},
   "outputs": [],
   "source": []
  }
 ],
 "metadata": {
  "kernelspec": {
   "display_name": "Python 3",
   "language": "python",
   "name": "python3"
  },
  "language_info": {
   "codemirror_mode": {
    "name": "ipython",
    "version": 3
   },
   "file_extension": ".py",
   "mimetype": "text/x-python",
   "name": "python",
   "nbconvert_exporter": "python",
   "pygments_lexer": "ipython3",
   "version": "3.8.1"
  }
 },
 "nbformat": 4,
 "nbformat_minor": 4
}
